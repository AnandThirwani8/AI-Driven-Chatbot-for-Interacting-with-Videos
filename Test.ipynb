{
 "cells": [
  {
   "cell_type": "code",
   "execution_count": 1,
   "id": "516e7fcc-bdd8-4ab4-b795-56d3cd805924",
   "metadata": {},
   "outputs": [],
   "source": [
    "from utils import *"
   ]
  },
  {
   "cell_type": "code",
   "execution_count": 2,
   "id": "2820445c-e15c-4db9-b7d9-6f44a7118124",
   "metadata": {},
   "outputs": [],
   "source": [
    "path_to_video = 'sample_videos/fire2.mp4'"
   ]
  },
  {
   "cell_type": "code",
   "execution_count": 3,
   "id": "eb1bb73d-45f3-4862-b685-2f3508a823ce",
   "metadata": {},
   "outputs": [
    {
     "name": "stderr",
     "output_type": "stream",
     "text": [
      "Processing Frames: 13frame [00:51,  3.93s/frame]                                \n",
      "Some weights of BridgeTowerForContrastiveLearning were not initialized from the model checkpoint at BridgeTower/bridgetower-large-itm-mlm-itc and are newly initialized: ['logit_scale']\n",
      "You should probably TRAIN this model on a down-stream task to be able to use it for predictions and inference.\n"
     ]
    }
   ],
   "source": [
    "vid_metadata = get_video_trascript(path_to_video, num_of_extracted_frames_per_second = 1/20)\n",
    "vid_trans = [vid['transcript'] for vid in vid_metadata]\n",
    "vid_frames = [base64_to_image(vid['extracted_frame_base64']) for vid in vid_metadata]\n",
    "\n",
    "embedding_model = BridgeTowerEmbeddings()\n",
    "embeddings = embedding_model.embed_image_text_pairs(texts=vid_trans, images=vid_frames)\n",
    "\n",
    "retriever = get_vectorstore(vid_metadata, embeddings)"
   ]
  },
  {
   "cell_type": "code",
   "execution_count": null,
   "id": "e24a9387-0ac9-4696-aeda-4ff50701fdce",
   "metadata": {},
   "outputs": [],
   "source": [
    "query = 'Was there a fire incident on 14th September ?'\n",
    "answer, extracted_trascript, extracted_path, extracted_timestamp = QnA(query, retriever)\n",
    "answer"
   ]
  },
  {
   "cell_type": "code",
   "execution_count": null,
   "id": "d59f4fd0-7a52-4759-b59f-df788b3ab8b8",
   "metadata": {},
   "outputs": [],
   "source": [
    "extract_and_display_clip(extracted_path, extracted_timestamp)"
   ]
  },
  {
   "cell_type": "code",
   "execution_count": 7,
   "id": "39bffd55-8893-48fd-8737-e435295e8d9b",
   "metadata": {},
   "outputs": [
    {
     "name": "stderr",
     "output_type": "stream",
     "text": [
      "Some weights of BridgeTowerForContrastiveLearning were not initialized from the model checkpoint at BridgeTower/bridgetower-large-itm-mlm-itc and are newly initialized: ['logit_scale']\n",
      "You should probably TRAIN this model on a down-stream task to be able to use it for predictions and inference.\n",
      "/Users/anand.thirwani/miniforge3/envs/videochat/lib/python3.10/site-packages/langsmith/client.py:253: LangSmithMissingAPIKeyWarning: API key must be provided when using hosted LangSmith API\n",
      "  warnings.warn(\n"
     ]
    },
    {
     "data": {
      "text/plain": [
       "'The image shows a room with light-colored walls and a corrugated metal ceiling. The floor is covered with a significant amount of standing water, possibly mixed with debris or sediment. The scene suggests a flooded or water-damaged interior space, possibly an industrial or utility area.\\n'"
      ]
     },
     "execution_count": 7,
     "metadata": {},
     "output_type": "execute_result"
    }
   ],
   "source": [
    "query = 'Water'\n",
    "answer, extracted_trascript, extracted_path, extracted_timestamp = QnA(query, retriever)\n",
    "answer"
   ]
  },
  {
   "cell_type": "code",
   "execution_count": 8,
   "id": "e44132f4-5468-4a8e-abaf-91a525889cb3",
   "metadata": {},
   "outputs": [
    {
     "data": {
      "text/plain": [
       "'The image appears to be a still frame from a security camera, possibly inside a building. The date and time stamp in the upper right corner reads \"09-14-2016 12:14:07 PM\" with \"King County Sheriff\\'s Office\" also present.\\n\\nThe scene shows a room with light-colored walls and what seems to be a corrugated metal ceiling. The floor is covered with a significant amount of standing water, possibly mixed with some kind of debris or sediment, giving it a murky appearance. There\\'s a dark, rectangular opening or drain in the floor to the left side of the frame. Wires and conduits are visible along the walls and ceiling.\\n\\nOverall, the image suggests a flooded or water-damaged interior space, possibly an industrial or utility area, as captured by a security camera.'"
      ]
     },
     "execution_count": 8,
     "metadata": {},
     "output_type": "execute_result"
    }
   ],
   "source": [
    "extracted_trascript"
   ]
  },
  {
   "cell_type": "code",
   "execution_count": 9,
   "id": "61b4cb27-b4e4-406c-83ec-248289eea634",
   "metadata": {},
   "outputs": [
    {
     "name": "stderr",
     "output_type": "stream",
     "text": [
      "huggingface/tokenizers: The current process just got forked, after parallelism has already been used. Disabling parallelism to avoid deadlocks...\n",
      "To disable this warning, you can either:\n",
      "\t- Avoid using `tokenizers` before the fork if possible\n",
      "\t- Explicitly set the environment variable TOKENIZERS_PARALLELISM=(true | false)\n",
      "huggingface/tokenizers: The current process just got forked, after parallelism has already been used. Disabling parallelism to avoid deadlocks...\n",
      "To disable this warning, you can either:\n",
      "\t- Avoid using `tokenizers` before the fork if possible\n",
      "\t- Explicitly set the environment variable TOKENIZERS_PARALLELISM=(true | false)\n",
      "huggingface/tokenizers: The current process just got forked, after parallelism has already been used. Disabling parallelism to avoid deadlocks...\n",
      "To disable this warning, you can either:\n",
      "\t- Avoid using `tokenizers` before the fork if possible\n",
      "\t- Explicitly set the environment variable TOKENIZERS_PARALLELISM=(true | false)\n"
     ]
    },
    {
     "name": "stdout",
     "output_type": "stream",
     "text": [
      "{'video_found': True, 'audio_found': True, 'metadata': {'major_brand': 'mp42', 'minor_version': '0', 'compatible_brands': 'isommp42', 'creation_time': '2019-04-23T12:22:40.000000Z'}, 'inputs': [{'streams': [{'input_number': 0, 'stream_number': 0, 'stream_type': 'video', 'language': None, 'default': True, 'size': [1280, 720], 'bitrate': 1282, 'fps': 23.976023976023978, 'codec_name': 'h264', 'profile': '(Main)', 'metadata': {'Metadata': '', 'creation_time': '2019-04-23T12:22:40.000000Z', 'handler_name': 'ISO Media file produced by Google Inc. Created on: 04/23/2019.', 'vendor_id': '[0][0][0][0]'}}, {'input_number': 0, 'stream_number': 1, 'stream_type': 'audio', 'language': 'eng', 'default': True, 'fps': 44100, 'bitrate': 127, 'metadata': {'Metadata': '', 'creation_time': '2019-04-23T12:22:40.000000Z', 'handler_name': 'ISO Media file produced by Google Inc. Created on: 04/23/2019.', 'vendor_id': '[0][0][0][0]'}}], 'input_number': 0}], 'duration': 246.6, 'bitrate': 1414, 'start': 0.0, 'default_video_input_number': 0, 'default_video_stream_number': 0, 'video_codec_name': 'h264', 'video_profile': '(Main)', 'video_size': [1280, 720], 'video_bitrate': 1282, 'video_fps': 23.976023976023978, 'default_audio_input_number': 0, 'default_audio_stream_number': 1, 'audio_fps': 44100, 'audio_bitrate': 127, 'video_duration': 246.6, 'video_n_frames': 5912}\n",
      "/Users/anand.thirwani/miniforge3/envs/videochat/lib/python3.10/site-packages/imageio_ffmpeg/binaries/ffmpeg-macos-aarch64-v7.1 -i sample_videos/fire2.mp4 -loglevel error -f image2pipe -vf scale=1280:720 -sws_flags bicubic -pix_fmt rgb24 -vcodec rawvideo -\n"
     ]
    },
    {
     "name": "stderr",
     "output_type": "stream",
     "text": [
      "huggingface/tokenizers: The current process just got forked, after parallelism has already been used. Disabling parallelism to avoid deadlocks...\n",
      "To disable this warning, you can either:\n",
      "\t- Avoid using `tokenizers` before the fork if possible\n",
      "\t- Explicitly set the environment variable TOKENIZERS_PARALLELISM=(true | false)\n",
      "huggingface/tokenizers: The current process just got forked, after parallelism has already been used. Disabling parallelism to avoid deadlocks...\n",
      "To disable this warning, you can either:\n",
      "\t- Avoid using `tokenizers` before the fork if possible\n",
      "\t- Explicitly set the environment variable TOKENIZERS_PARALLELISM=(true | false)\n",
      "huggingface/tokenizers: The current process just got forked, after parallelism has already been used. Disabling parallelism to avoid deadlocks...\n",
      "To disable this warning, you can either:\n",
      "\t- Avoid using `tokenizers` before the fork if possible\n",
      "\t- Explicitly set the environment variable TOKENIZERS_PARALLELISM=(true | false)\n"
     ]
    },
    {
     "name": "stdout",
     "output_type": "stream",
     "text": [
      "{'video_found': True, 'audio_found': True, 'metadata': {'major_brand': 'mp42', 'minor_version': '0', 'compatible_brands': 'isommp42', 'creation_time': '2019-04-23T12:22:40.000000Z'}, 'inputs': [{'streams': [{'input_number': 0, 'stream_number': 0, 'stream_type': 'video', 'language': None, 'default': True, 'size': [1280, 720], 'bitrate': 1282, 'fps': 23.976023976023978, 'codec_name': 'h264', 'profile': '(Main)', 'metadata': {'Metadata': '', 'creation_time': '2019-04-23T12:22:40.000000Z', 'handler_name': 'ISO Media file produced by Google Inc. Created on: 04/23/2019.', 'vendor_id': '[0][0][0][0]'}}, {'input_number': 0, 'stream_number': 1, 'stream_type': 'audio', 'language': 'eng', 'default': True, 'fps': 44100, 'bitrate': 127, 'metadata': {'Metadata': '', 'creation_time': '2019-04-23T12:22:40.000000Z', 'handler_name': 'ISO Media file produced by Google Inc. Created on: 04/23/2019.', 'vendor_id': '[0][0][0][0]'}}], 'input_number': 0}], 'duration': 246.6, 'bitrate': 1414, 'start': 0.0, 'default_video_input_number': 0, 'default_video_stream_number': 0, 'video_codec_name': 'h264', 'video_profile': '(Main)', 'video_size': [1280, 720], 'video_bitrate': 1282, 'video_fps': 23.976023976023978, 'default_audio_input_number': 0, 'default_audio_stream_number': 1, 'audio_fps': 44100, 'audio_bitrate': 127, 'video_duration': 246.6, 'video_n_frames': 5912}\n",
      "/Users/anand.thirwani/miniforge3/envs/videochat/lib/python3.10/site-packages/imageio_ffmpeg/binaries/ffmpeg-macos-aarch64-v7.1 -ss 159.170000 -i sample_videos/fire2.mp4 -ss 1.000000 -loglevel error -f image2pipe -vf scale=1280:720 -sws_flags bicubic -pix_fmt rgb24 -vcodec rawvideo -\n",
      "MoviePy - Building video temp/extracted_clip.mp4.\n",
      "MoviePy - Writing audio in extracted_clipTEMP_MPY_wvf_snd.mp3\n"
     ]
    },
    {
     "name": "stderr",
     "output_type": "stream",
     "text": [
      "huggingface/tokenizers: The current process just got forked, after parallelism has already been used. Disabling parallelism to avoid deadlocks...\n",
      "To disable this warning, you can either:\n",
      "\t- Avoid using `tokenizers` before the fork if possible\n",
      "\t- Explicitly set the environment variable TOKENIZERS_PARALLELISM=(true | false)\n",
      "huggingface/tokenizers: The current process just got forked, after parallelism has already been used. Disabling parallelism to avoid deadlocks...\n",
      "To disable this warning, you can either:\n",
      "\t- Avoid using `tokenizers` before the fork if possible\n",
      "\t- Explicitly set the environment variable TOKENIZERS_PARALLELISM=(true | false)\n"
     ]
    },
    {
     "name": "stdout",
     "output_type": "stream",
     "text": [
      "MoviePy - Done.\n",
      "MoviePy - Writing video temp/extracted_clip.mp4\n",
      "\n"
     ]
    },
    {
     "name": "stderr",
     "output_type": "stream",
     "text": [
      "                                                                                "
     ]
    },
    {
     "name": "stdout",
     "output_type": "stream",
     "text": [
      "MoviePy - Done !\n",
      "MoviePy - video ready temp/extracted_clip.mp4\n"
     ]
    },
    {
     "data": {
      "text/html": [
       "<video src=\"temp/extracted_clip.mp4\" controls  width=\"400\" >\n",
       "      Your browser does not support the <code>video</code> element.\n",
       "    </video>"
      ],
      "text/plain": [
       "<IPython.core.display.Video object>"
      ]
     },
     "metadata": {},
     "output_type": "display_data"
    }
   ],
   "source": [
    "extract_and_display_clip(extracted_path, extracted_timestamp)"
   ]
  },
  {
   "cell_type": "code",
   "execution_count": null,
   "id": "89d111a8-ff20-4352-8ac2-a3dcf2d4a811",
   "metadata": {},
   "outputs": [],
   "source": []
  },
  {
   "cell_type": "code",
   "execution_count": null,
   "id": "73acce46-55b1-4ced-a9d4-035f9d59b5af",
   "metadata": {},
   "outputs": [],
   "source": []
  }
 ],
 "metadata": {
  "kernelspec": {
   "display_name": "Python 3 (ipykernel)",
   "language": "python",
   "name": "python3"
  },
  "language_info": {
   "codemirror_mode": {
    "name": "ipython",
    "version": 3
   },
   "file_extension": ".py",
   "mimetype": "text/x-python",
   "name": "python",
   "nbconvert_exporter": "python",
   "pygments_lexer": "ipython3",
   "version": "3.10.16"
  }
 },
 "nbformat": 4,
 "nbformat_minor": 5
}
